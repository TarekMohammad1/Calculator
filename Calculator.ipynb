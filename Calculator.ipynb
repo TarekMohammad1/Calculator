{
 "cells": [
  {
   "cell_type": "markdown",
   "metadata": {},
   "source": [
    "# Calculator:"
   ]
  },
  {
   "cell_type": "code",
   "execution_count": null,
   "metadata": {},
   "outputs": [],
   "source": [
    "import random\n",
    "import string\n",
    "\n",
    "def main():\n",
    "    print('hello, Welcome to Password generator!')\n",
    "\n",
    "    #input the length of password\n",
    "    length = int(input('\\nEnter the length of password: '))                      \n",
    "\n",
    "    #define data\n",
    "    lower = string.ascii_lowercase\n",
    "    upper = string.ascii_uppercase\n",
    "    num = string.digits\n",
    "    symbols = string.punctuation\n",
    "    #string.ascii_letters\n",
    "\n",
    "    #combine the data\n",
    "    all = lower + upper + num + symbols\n",
    "\n",
    "    #use random \n",
    "    temp = random.sample(all,length)\n",
    "\n",
    "    #create the password \n",
    "    password = \"\".join(temp)\n",
    "\n",
    "    #print the password\n",
    "    print(password)\n",
    "\n",
    "if __name__ == '__main__':\n",
    "    main()"
   ]
  }
 ],
 "metadata": {
  "kernelspec": {
   "display_name": "Python 3",
   "language": "python",
   "name": "python3"
  },
  "language_info": {
   "codemirror_mode": {
    "name": "ipython",
    "version": 3
   },
   "file_extension": ".py",
   "mimetype": "text/x-python",
   "name": "python",
   "nbconvert_exporter": "python",
   "pygments_lexer": "ipython3",
   "version": "3.6.5"
  }
 },
 "nbformat": 4,
 "nbformat_minor": 2
}
